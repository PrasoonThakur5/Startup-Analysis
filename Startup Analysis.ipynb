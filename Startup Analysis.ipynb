{
 "cells": [
  {
   "cell_type": "code",
   "execution_count": 1,
   "metadata": {},
   "outputs": [],
   "source": [
    "# Importing Necessary Libraries\n",
    "import numpy as np\n",
    "import pandas as pd\n",
    "import matplotlib.pyplot as plt\n",
    "import seaborn as sns\n",
    "import re\n",
    "import math\n",
    "%matplotlib inline"
   ]
  },
  {
   "cell_type": "code",
   "execution_count": 2,
   "metadata": {},
   "outputs": [],
   "source": [
    "#Importing Data\n",
    "data=pd.read_csv('startup_funding.csv')"
   ]
  },
  {
   "cell_type": "code",
   "execution_count": 3,
   "metadata": {},
   "outputs": [
    {
     "data": {
      "text/html": [
       "<div>\n",
       "<style scoped>\n",
       "    .dataframe tbody tr th:only-of-type {\n",
       "        vertical-align: middle;\n",
       "    }\n",
       "\n",
       "    .dataframe tbody tr th {\n",
       "        vertical-align: top;\n",
       "    }\n",
       "\n",
       "    .dataframe thead th {\n",
       "        text-align: right;\n",
       "    }\n",
       "</style>\n",
       "<table border=\"1\" class=\"dataframe\">\n",
       "  <thead>\n",
       "    <tr style=\"text-align: right;\">\n",
       "      <th></th>\n",
       "      <th>SNo</th>\n",
       "      <th>Date</th>\n",
       "      <th>StartupName</th>\n",
       "      <th>IndustryVertical</th>\n",
       "      <th>SubVertical</th>\n",
       "      <th>CityLocation</th>\n",
       "      <th>InvestorsName</th>\n",
       "      <th>InvestmentType</th>\n",
       "      <th>AmountInUSD</th>\n",
       "      <th>Remarks</th>\n",
       "    </tr>\n",
       "  </thead>\n",
       "  <tbody>\n",
       "    <tr>\n",
       "      <th>0</th>\n",
       "      <td>0</td>\n",
       "      <td>01/08/2017</td>\n",
       "      <td>TouchKin</td>\n",
       "      <td>Technology</td>\n",
       "      <td>Predictive Care Platform</td>\n",
       "      <td>Bangalore</td>\n",
       "      <td>Kae Capital</td>\n",
       "      <td>Private Equity</td>\n",
       "      <td>1,300,000</td>\n",
       "      <td>NaN</td>\n",
       "    </tr>\n",
       "    <tr>\n",
       "      <th>1</th>\n",
       "      <td>1</td>\n",
       "      <td>02/08/2017</td>\n",
       "      <td>Ethinos</td>\n",
       "      <td>Technology</td>\n",
       "      <td>Digital Marketing Agency</td>\n",
       "      <td>Mumbai</td>\n",
       "      <td>Triton Investment Advisors</td>\n",
       "      <td>Private Equity</td>\n",
       "      <td>NaN</td>\n",
       "      <td>NaN</td>\n",
       "    </tr>\n",
       "    <tr>\n",
       "      <th>2</th>\n",
       "      <td>2</td>\n",
       "      <td>02/08/2017</td>\n",
       "      <td>Leverage Edu</td>\n",
       "      <td>Consumer Internet</td>\n",
       "      <td>Online platform for Higher Education Services</td>\n",
       "      <td>New Delhi</td>\n",
       "      <td>Kashyap Deorah, Anand Sankeshwar, Deepak Jain,...</td>\n",
       "      <td>Seed Funding</td>\n",
       "      <td>NaN</td>\n",
       "      <td>NaN</td>\n",
       "    </tr>\n",
       "    <tr>\n",
       "      <th>3</th>\n",
       "      <td>3</td>\n",
       "      <td>02/08/2017</td>\n",
       "      <td>Zepo</td>\n",
       "      <td>Consumer Internet</td>\n",
       "      <td>DIY Ecommerce platform</td>\n",
       "      <td>Mumbai</td>\n",
       "      <td>Kunal Shah, LetsVenture, Anupam Mittal, Hetal ...</td>\n",
       "      <td>Seed Funding</td>\n",
       "      <td>500,000</td>\n",
       "      <td>NaN</td>\n",
       "    </tr>\n",
       "    <tr>\n",
       "      <th>4</th>\n",
       "      <td>4</td>\n",
       "      <td>02/08/2017</td>\n",
       "      <td>Click2Clinic</td>\n",
       "      <td>Consumer Internet</td>\n",
       "      <td>healthcare service aggregator</td>\n",
       "      <td>Hyderabad</td>\n",
       "      <td>Narottam Thudi, Shireesh Palle</td>\n",
       "      <td>Seed Funding</td>\n",
       "      <td>850,000</td>\n",
       "      <td>NaN</td>\n",
       "    </tr>\n",
       "  </tbody>\n",
       "</table>\n",
       "</div>"
      ],
      "text/plain": [
       "   SNo        Date   StartupName   IndustryVertical  \\\n",
       "0    0  01/08/2017      TouchKin         Technology   \n",
       "1    1  02/08/2017       Ethinos         Technology   \n",
       "2    2  02/08/2017  Leverage Edu  Consumer Internet   \n",
       "3    3  02/08/2017          Zepo  Consumer Internet   \n",
       "4    4  02/08/2017  Click2Clinic  Consumer Internet   \n",
       "\n",
       "                                     SubVertical CityLocation  \\\n",
       "0                       Predictive Care Platform    Bangalore   \n",
       "1                       Digital Marketing Agency       Mumbai   \n",
       "2  Online platform for Higher Education Services    New Delhi   \n",
       "3                         DIY Ecommerce platform       Mumbai   \n",
       "4                  healthcare service aggregator    Hyderabad   \n",
       "\n",
       "                                       InvestorsName  InvestmentType  \\\n",
       "0                                        Kae Capital  Private Equity   \n",
       "1                         Triton Investment Advisors  Private Equity   \n",
       "2  Kashyap Deorah, Anand Sankeshwar, Deepak Jain,...    Seed Funding   \n",
       "3  Kunal Shah, LetsVenture, Anupam Mittal, Hetal ...    Seed Funding   \n",
       "4                     Narottam Thudi, Shireesh Palle    Seed Funding   \n",
       "\n",
       "  AmountInUSD Remarks  \n",
       "0   1,300,000     NaN  \n",
       "1         NaN     NaN  \n",
       "2         NaN     NaN  \n",
       "3     500,000     NaN  \n",
       "4     850,000     NaN  "
      ]
     },
     "execution_count": 3,
     "metadata": {},
     "output_type": "execute_result"
    }
   ],
   "source": [
    "#Data Overview\n",
    "data.head()"
   ]
  },
  {
   "cell_type": "code",
   "execution_count": 4,
   "metadata": {},
   "outputs": [
    {
     "data": {
      "text/plain": [
       "<bound method DataFrame.info of        SNo         Date       StartupName   IndustryVertical  \\\n",
       "0        0   01/08/2017          TouchKin         Technology   \n",
       "1        1   02/08/2017           Ethinos         Technology   \n",
       "2        2   02/08/2017      Leverage Edu  Consumer Internet   \n",
       "3        3   02/08/2017              Zepo  Consumer Internet   \n",
       "4        4   02/08/2017      Click2Clinic  Consumer Internet   \n",
       "5        5   01/07/2017     Billion Loans  Consumer Internet   \n",
       "6        6   03/07/2017  Ecolibriumenergy         Technology   \n",
       "7        7   04/07/2017             Droom          eCommerce   \n",
       "8        8   05/07/2017         Jumbotail          eCommerce   \n",
       "9        9   05/07/2017            Moglix          eCommerce   \n",
       "10      10   05/07/2017        Timesaverz  Consumer Internet   \n",
       "11      11   06/07/2017            Minjar         Technology   \n",
       "12      12   06/07/2017       MyCity4kids  Consumer Internet   \n",
       "13      13   07/07/2017          Clip App  Consumer Internet   \n",
       "14      14   07/07/2017       Upwardly.in  Consumer Internet   \n",
       "15      15   10/07/2017        Autorox.co         Technology   \n",
       "16      16   11/07/2017            Fabogo  Consumer Internet   \n",
       "17      17   11/07/2017        Flickstree  Consumer Internet   \n",
       "18      18   11/07/2017       Design Cafe  Consumer Internet   \n",
       "19      19   12/07/2017          Innoviti         Technology   \n",
       "20      20   12/07/2017          VDeliver          Logistics   \n",
       "21      21   12/07/2017          Bottr.me         Technology   \n",
       "22      22   12/07/2017          Arcatron         Technology   \n",
       "23      23   14/07/2017          QwikSpec         Technology   \n",
       "24      24   14/07/2017           Chumbak          eCommerce   \n",
       "25      25   17/07/2017           Increff         Technology   \n",
       "26      26   17/07/2017            Vayana         Technology   \n",
       "27      27   18/07/2017         MObiquest         Technology   \n",
       "28      28   18/07/2017             Ambee  Consumer Internet   \n",
       "29      29   18/07/2017   Ideal Insurance  Consumer Internet   \n",
       "...    ...          ...               ...                ...   \n",
       "2342  2342   19/01/2015           Refiral                NaN   \n",
       "2343  2343   19/01/2015      Ping Digital                NaN   \n",
       "2344  2344   19/01/2015   HealthyWorld.in                NaN   \n",
       "2345  2345   19/01/2015      Hostel Dunia                NaN   \n",
       "2346  2346   19/01/2015   Play your sport                NaN   \n",
       "2347  2347   19/01/2015           Yo Grad                NaN   \n",
       "2348  2348   19/01/2015            Enabli                NaN   \n",
       "2349  2349   19/01/2015               CBS                NaN   \n",
       "2350  2350   20/01/2015         Hopscotch                NaN   \n",
       "2351  2351   20/01/2015  Amagi Media Labs                NaN   \n",
       "2352  2352   20/01/2015   HealthyWorld.in                NaN   \n",
       "2353  2353   21/01/2015       Simplilearn                NaN   \n",
       "2354  2354   21/01/2015      MyDreamStore                NaN   \n",
       "2355  2355   21/05/2015              Knit                NaN   \n",
       "2356  2356   21/05/2015           Villgro                NaN   \n",
       "2357  2357  22/01//2015      Corporate360                NaN   \n",
       "2358  2358   22/01/2015         Freshmonk                NaN   \n",
       "2359  2359   22/01/2015   Englishleap.com                NaN   \n",
       "2360  2360   22/01/2015            Antuit                NaN   \n",
       "2361  2361   22/01/2015     Caratlane.com                NaN   \n",
       "2362  2362   24/01/2015        Aasaanjobs                NaN   \n",
       "2363  2363   24/01/2015          Impartus                NaN   \n",
       "2364  2364   25/01/2015        Thrill App                NaN   \n",
       "2365  2365   27/01/2015      CarDekho.com                NaN   \n",
       "2366  2366   28/01/2015     Grabhouse.com                NaN   \n",
       "2367  2367   29/01/2015        Printvenue                NaN   \n",
       "2368  2368   29/01/2015          Graphene                NaN   \n",
       "2369  2369   30/01/2015    Mad Street Den                NaN   \n",
       "2370  2370   30/01/2015         Simplotel                NaN   \n",
       "2371  2371   31/01/2015  couponmachine.in                NaN   \n",
       "\n",
       "                                            SubVertical CityLocation  \\\n",
       "0                              Predictive Care Platform    Bangalore   \n",
       "1                              Digital Marketing Agency       Mumbai   \n",
       "2         Online platform for Higher Education Services    New Delhi   \n",
       "3                                DIY Ecommerce platform       Mumbai   \n",
       "4                         healthcare service aggregator    Hyderabad   \n",
       "5                         Peer to Peer Lending platform    Bangalore   \n",
       "6                  Energy management solutions provider    Ahmedabad   \n",
       "7                    Online marketplace for automobiles      Gurgaon   \n",
       "8               online marketplace for food and grocery    Bangalore   \n",
       "9               B2B marketplace for Industrial products        Noida   \n",
       "10                    Hyperlocal home services provider       Mumbai   \n",
       "11                             Cloud Solutions provider    Bangalore   \n",
       "12    parenting blog and kids’ events discovery plat...      Gurgaon   \n",
       "13                         Digital Media Video platform    Bangalore   \n",
       "14                               MF investment platform    Bangalore   \n",
       "15                Workshop Management Software Platform    Hyderabad   \n",
       "16         Salon & Spa Aggregation & Discovery platform         Pune   \n",
       "17                     Video Content Discovery Platform       Mumbai   \n",
       "18                      Online Interior Design platform    Bangalore   \n",
       "19                           Digital payments solutions    Bangalore   \n",
       "20                          Door Step Delivery platform    Hyderabad   \n",
       "21                                Chatbot creation tool    Bangalore   \n",
       "22                Next Gen Mobility device manufacturer         Pune   \n",
       "23    Construction site operations and analytics pla...    Bangalore   \n",
       "24               Designer consumer products Marketplace    Bangalore   \n",
       "25                   Sales Solutions for Fashion Brands    Bangalore   \n",
       "26                         Enterprise Banking Solutions         Pune   \n",
       "27                          Mobile Services & Solutions        Noida   \n",
       "28                       Ambulance Aggregation Services    Hyderabad   \n",
       "29                            Online Insurance platform      Kolkata   \n",
       "...                                                 ...          ...   \n",
       "2342                                                NaN          NaN   \n",
       "2343                                                NaN          NaN   \n",
       "2344                                                NaN          NaN   \n",
       "2345                                                NaN          NaN   \n",
       "2346                                                NaN          NaN   \n",
       "2347                                                NaN          NaN   \n",
       "2348                                                NaN          NaN   \n",
       "2349                                                NaN          NaN   \n",
       "2350                                                NaN          NaN   \n",
       "2351                                                NaN          NaN   \n",
       "2352                                                NaN          NaN   \n",
       "2353                                                NaN          NaN   \n",
       "2354                                                NaN          NaN   \n",
       "2355                                                NaN          NaN   \n",
       "2356                                                NaN          NaN   \n",
       "2357                                                NaN          NaN   \n",
       "2358                                                NaN          NaN   \n",
       "2359                                                NaN          NaN   \n",
       "2360                                                NaN          NaN   \n",
       "2361                                                NaN          NaN   \n",
       "2362                                                NaN          NaN   \n",
       "2363                                                NaN          NaN   \n",
       "2364                                                NaN          NaN   \n",
       "2365                                                NaN          NaN   \n",
       "2366                                                NaN          NaN   \n",
       "2367                                                NaN          NaN   \n",
       "2368                                                NaN          NaN   \n",
       "2369                                                NaN          NaN   \n",
       "2370                                                NaN          NaN   \n",
       "2371                                                NaN          NaN   \n",
       "\n",
       "                                          InvestorsName  InvestmentType  \\\n",
       "0                                           Kae Capital  Private Equity   \n",
       "1                            Triton Investment Advisors  Private Equity   \n",
       "2     Kashyap Deorah, Anand Sankeshwar, Deepak Jain,...    Seed Funding   \n",
       "3     Kunal Shah, LetsVenture, Anupam Mittal, Hetal ...    Seed Funding   \n",
       "4                        Narottam Thudi, Shireesh Palle    Seed Funding   \n",
       "5              Reliance Corporate Advisory Services Ltd    Seed Funding   \n",
       "6                                  Infuse Ventures, JLL  Private Equity   \n",
       "7       Asset Management (Asia) Ltd, Digital Garage Inc  Private Equity   \n",
       "8         Kalaari Capital, Nexus India Capital Advisors  Private Equity   \n",
       "9     International Finance Corporation, Rocketship,...  Private Equity   \n",
       "10                                                 BCCL  Private Equity   \n",
       "11    Blume Ventures, Contrarian Capital India Partn...    Seed Funding   \n",
       "12                                                  NaN    Seed Funding   \n",
       "13                      India Quotient, Shunwei Capital    Seed Funding   \n",
       "14    Sreeram Iyer, Suvo Sarkar, Anita Gupta, Likemi...    Seed Funding   \n",
       "15                                         Mitsui & Co.  Private Equity   \n",
       "16                             Dunamis Ventures Pte Ltd  Private Equity   \n",
       "17    Venture Catalysts, Sourav Ganguly, Ankit Adity...    Seed Funding   \n",
       "18    Fireside Ventures, Apurva Salarpuria, Sidharth...    Seed Funding   \n",
       "19    SBI-FMO Fund, Bessemer Venture Partners, Catam...  Private Equity   \n",
       "20                 Corvus Ventures, MAPE Advisory Group  Private Equity   \n",
       "21    500 Startups, Purvi Capital, Rajan Anandan, Ab...    Seed Funding   \n",
       "22                                 Indian Angel Network    Seed Funding   \n",
       "23    Brigade Innovations LLP, TV Mohandas Pai, Suha...    Seed Funding   \n",
       "24                           Blacksoil Capital Pvt. Ltd  Private Equity   \n",
       "25    Sequoia Capital, Grey Orange, Rajesh Ramaiah, ...    Seed Funding   \n",
       "26         IDG Ventures India Advisors, Jungle Ventures  Private Equity   \n",
       "27                              One97 Communication Ltd  Private Equity   \n",
       "28             Uber Technologies Inc, Amaya Capital LLP    Seed Funding   \n",
       "29                                              Xelpmoc    Seed Funding   \n",
       "...                                                 ...             ...   \n",
       "2342                                  Cogent E Services    Seed Funding   \n",
       "2343                      Consortium of Angel Investors    Seed Funding   \n",
       "2344                           Group of Angel Investors    Seed Funding   \n",
       "2345         Hyderabad Angels (at Startup Heroes event)    Seed Funding   \n",
       "2346         Hyderabad Angels (at Startup Heroes event)    Seed Funding   \n",
       "2347         Hyderabad Angels (at Startup Heroes event)    Seed Funding   \n",
       "2348         Hyderabad Angels (at Startup Heroes event)    Seed Funding   \n",
       "2349         Hyderabad Angels (at Startup Heroes event)    Seed Funding   \n",
       "2350                    Eduardo Saverin & Velos Capital  Private Equity   \n",
       "2351                      Premji Invest & Mayfield Fund  Private Equity   \n",
       "2352                           Group of Angel Investors    Seed Funding   \n",
       "2353   Mayfield India, Kalaari Capital, Helion Ventures  Private Equity   \n",
       "2354                              Undisclosed Investors    Seed Funding   \n",
       "2355                  Rohit Jain, Amit Rambhia & Others    Seed Funding   \n",
       "2356                    Michael & Susan Dell Foundation    Seed Funding   \n",
       "2357                           Group of Angel Investors    Seed Funding   \n",
       "2358            August Capital Partners, Michael Blakey    Seed Funding   \n",
       "2359                                             ANALEC  Private Equity   \n",
       "2360                      Goldman Sachs, Zodius Capital  Private Equity   \n",
       "2361                                       Tiger Global  Private Equity   \n",
       "2362            Inventus Capital Partners, IDG Ventures    Seed Funding   \n",
       "2363                              Kaizen Private Equity  Private Equity   \n",
       "2364                          People Group (Shaadi.com)  Private Equity   \n",
       "2365                Hillhouse Capital, Tybourne Capital  Private Equity   \n",
       "2366                   Kalaari Capital, Sequoia Capital  Private Equity   \n",
       "2367                        Asia Pacific Internet Group  Private Equity   \n",
       "2368                                     KARSEMVEN Fund  Private Equity   \n",
       "2369                     Exfinity Fund, GrowX Ventures.  Private Equity   \n",
       "2370                                         MakeMyTrip  Private Equity   \n",
       "2371                  UK based Group of Angel Investors    Seed Funding   \n",
       "\n",
       "     AmountInUSD                            Remarks  \n",
       "0      1,300,000                                NaN  \n",
       "1            NaN                                NaN  \n",
       "2            NaN                                NaN  \n",
       "3        500,000                                NaN  \n",
       "4        850,000                                NaN  \n",
       "5      1,000,000                                NaN  \n",
       "6      2,600,000                                NaN  \n",
       "7     20,000,000                                NaN  \n",
       "8      8,500,000                                NaN  \n",
       "9     12,000,000                                NaN  \n",
       "10     1,000,000                                NaN  \n",
       "11           NaN                                NaN  \n",
       "12           NaN                                NaN  \n",
       "13     1,000,000                                NaN  \n",
       "14           NaN                                NaN  \n",
       "15     3,000,000                                NaN  \n",
       "16     2,250,000                                NaN  \n",
       "17       464,000                                NaN  \n",
       "18           NaN                                NaN  \n",
       "19    18,500,000                                NaN  \n",
       "20           NaN                                NaN  \n",
       "21           NaN                                NaN  \n",
       "22           NaN                                NaN  \n",
       "23       540,000                                NaN  \n",
       "24     1,700,000                                NaN  \n",
       "25     2,000,000                                NaN  \n",
       "26     4,000,000                                NaN  \n",
       "27           NaN                                NaN  \n",
       "28           NaN                                NaN  \n",
       "29           NaN                                NaN  \n",
       "...          ...                                ...  \n",
       "2342     330,000                                NaN  \n",
       "2343         NaN                                NaN  \n",
       "2344     200,000                                NaN  \n",
       "2345      16,000                                NaN  \n",
       "2346      16,000                                NaN  \n",
       "2347      16,000                                NaN  \n",
       "2348      16,000                                NaN  \n",
       "2349      16,000                                NaN  \n",
       "2350  11,000,000                                NaN  \n",
       "2351         NaN                                NaN  \n",
       "2352     200,000                                NaN  \n",
       "2353  14,750,000                                NaN  \n",
       "2354     325,000                                NaN  \n",
       "2355         NaN                                NaN  \n",
       "2356   3,250,000               To fund edu startups  \n",
       "2357     200,000                                NaN  \n",
       "2358         NaN                                NaN  \n",
       "2359         NaN                     Majority Stake  \n",
       "2360  56,000,000                                NaN  \n",
       "2361  31,000,000                           Series D  \n",
       "2362   1,500,000                                NaN  \n",
       "2363         NaN                           Series A  \n",
       "2364   1,000,000                  Strategic Funding  \n",
       "2365  50,000,000                           Series B  \n",
       "2366   2,500,000                           Series A  \n",
       "2367   4,500,000                                NaN  \n",
       "2368     825,000                Govt backed VC Fund  \n",
       "2369   1,500,000                                NaN  \n",
       "2370         NaN  Strategic Funding, Minority stake  \n",
       "2371     140,000                                NaN  \n",
       "\n",
       "[2372 rows x 10 columns]>"
      ]
     },
     "execution_count": 4,
     "metadata": {},
     "output_type": "execute_result"
    }
   ],
   "source": [
    "data.info"
   ]
  },
  {
   "cell_type": "code",
   "execution_count": 5,
   "metadata": {},
   "outputs": [
    {
     "data": {
      "text/plain": [
       "Index(['SNo', 'Date', 'StartupName', 'IndustryVertical', 'SubVertical',\n",
       "       'CityLocation', 'InvestorsName', 'InvestmentType', 'AmountInUSD',\n",
       "       'Remarks'],\n",
       "      dtype='object')"
      ]
     },
     "execution_count": 5,
     "metadata": {},
     "output_type": "execute_result"
    }
   ],
   "source": [
    "data.columns"
   ]
  },
  {
   "cell_type": "code",
   "execution_count": 6,
   "metadata": {},
   "outputs": [
    {
     "data": {
      "text/plain": [
       "(2372, 10)"
      ]
     },
     "execution_count": 6,
     "metadata": {},
     "output_type": "execute_result"
    }
   ],
   "source": [
    "data.shape"
   ]
  },
  {
   "cell_type": "code",
   "execution_count": 7,
   "metadata": {},
   "outputs": [],
   "source": [
    "#Removing Useless Columns\n",
    "data.drop(columns=['Remarks'],inplace=True)\n",
    "data.drop(columns=['SNo'],inplace=True)"
   ]
  },
  {
   "cell_type": "code",
   "execution_count": 8,
   "metadata": {},
   "outputs": [
    {
     "data": {
      "text/html": [
       "<div>\n",
       "<style scoped>\n",
       "    .dataframe tbody tr th:only-of-type {\n",
       "        vertical-align: middle;\n",
       "    }\n",
       "\n",
       "    .dataframe tbody tr th {\n",
       "        vertical-align: top;\n",
       "    }\n",
       "\n",
       "    .dataframe thead th {\n",
       "        text-align: right;\n",
       "    }\n",
       "</style>\n",
       "<table border=\"1\" class=\"dataframe\">\n",
       "  <thead>\n",
       "    <tr style=\"text-align: right;\">\n",
       "      <th></th>\n",
       "      <th>Missing Data</th>\n",
       "      <th>Percentage</th>\n",
       "    </tr>\n",
       "    <tr>\n",
       "      <th>Columns</th>\n",
       "      <th></th>\n",
       "      <th></th>\n",
       "    </tr>\n",
       "  </thead>\n",
       "  <tbody>\n",
       "    <tr>\n",
       "      <th>SubVertical</th>\n",
       "      <td>936</td>\n",
       "      <td>39.460371</td>\n",
       "    </tr>\n",
       "    <tr>\n",
       "      <th>AmountInUSD</th>\n",
       "      <td>847</td>\n",
       "      <td>35.708263</td>\n",
       "    </tr>\n",
       "    <tr>\n",
       "      <th>CityLocation</th>\n",
       "      <td>179</td>\n",
       "      <td>7.546374</td>\n",
       "    </tr>\n",
       "    <tr>\n",
       "      <th>IndustryVertical</th>\n",
       "      <td>171</td>\n",
       "      <td>7.209106</td>\n",
       "    </tr>\n",
       "    <tr>\n",
       "      <th>InvestorsName</th>\n",
       "      <td>8</td>\n",
       "      <td>0.337268</td>\n",
       "    </tr>\n",
       "    <tr>\n",
       "      <th>InvestmentType</th>\n",
       "      <td>1</td>\n",
       "      <td>0.042159</td>\n",
       "    </tr>\n",
       "    <tr>\n",
       "      <th>Date</th>\n",
       "      <td>0</td>\n",
       "      <td>0.000000</td>\n",
       "    </tr>\n",
       "    <tr>\n",
       "      <th>StartupName</th>\n",
       "      <td>0</td>\n",
       "      <td>0.000000</td>\n",
       "    </tr>\n",
       "  </tbody>\n",
       "</table>\n",
       "</div>"
      ],
      "text/plain": [
       "                  Missing Data  Percentage\n",
       "Columns                                   \n",
       "SubVertical                936   39.460371\n",
       "AmountInUSD                847   35.708263\n",
       "CityLocation               179    7.546374\n",
       "IndustryVertical           171    7.209106\n",
       "InvestorsName                8    0.337268\n",
       "InvestmentType               1    0.042159\n",
       "Date                         0    0.000000\n",
       "StartupName                  0    0.000000"
      ]
     },
     "execution_count": 8,
     "metadata": {},
     "output_type": "execute_result"
    }
   ],
   "source": [
    "#Cleaning the data to make it efficient\n",
    "null_values=pd.isnull(data).sum()\n",
    "columns=null_values.index\n",
    "frequency=null_values.values\n",
    "percentage=(frequency/data.shape[0])*100\n",
    "missing_data=pd.DataFrame({'Columns':columns,'Missing Data':frequency,'Percentage':percentage}).sort_values('Percentage',ascending=False).set_index('Columns')\n",
    "missing_data"
   ]
  },
  {
   "cell_type": "markdown",
   "metadata": {},
   "source": [
    "# Analysis"
   ]
  },
  {
   "cell_type": "code",
   "execution_count": 9,
   "metadata": {},
   "outputs": [],
   "source": [
    "data['AmountInUSD']=data['AmountInUSD'].apply(lambda x: float(str(x).replace(',','')))"
   ]
  },
  {
   "cell_type": "code",
   "execution_count": 10,
   "metadata": {},
   "outputs": [
    {
     "data": {
      "text/plain": [
       "(847, 8)"
      ]
     },
     "execution_count": 10,
     "metadata": {},
     "output_type": "execute_result"
    }
   ],
   "source": [
    "data[data['AmountInUSD'].isnull()].shape"
   ]
  },
  {
   "cell_type": "code",
   "execution_count": 11,
   "metadata": {},
   "outputs": [
    {
     "data": {
      "text/html": [
       "<div>\n",
       "<style scoped>\n",
       "    .dataframe tbody tr th:only-of-type {\n",
       "        vertical-align: middle;\n",
       "    }\n",
       "\n",
       "    .dataframe tbody tr th {\n",
       "        vertical-align: top;\n",
       "    }\n",
       "\n",
       "    .dataframe thead th {\n",
       "        text-align: right;\n",
       "    }\n",
       "</style>\n",
       "<table border=\"1\" class=\"dataframe\">\n",
       "  <thead>\n",
       "    <tr style=\"text-align: right;\">\n",
       "      <th></th>\n",
       "      <th>AmountInUSD</th>\n",
       "    </tr>\n",
       "    <tr>\n",
       "      <th>StartupName</th>\n",
       "      <th></th>\n",
       "    </tr>\n",
       "  </thead>\n",
       "  <tbody>\n",
       "    <tr>\n",
       "      <th>Paytm</th>\n",
       "      <td>2140000000</td>\n",
       "    </tr>\n",
       "    <tr>\n",
       "      <th>Flipkart</th>\n",
       "      <td>1559700000</td>\n",
       "    </tr>\n",
       "    <tr>\n",
       "      <th>Ola</th>\n",
       "      <td>984500000</td>\n",
       "    </tr>\n",
       "    <tr>\n",
       "      <th>Flipkart.com</th>\n",
       "      <td>700000000</td>\n",
       "    </tr>\n",
       "    <tr>\n",
       "      <th>Snapdeal</th>\n",
       "      <td>700000000</td>\n",
       "    </tr>\n",
       "    <tr>\n",
       "      <th>Ola Cabs</th>\n",
       "      <td>515000000</td>\n",
       "    </tr>\n",
       "    <tr>\n",
       "      <th>Olacabs</th>\n",
       "      <td>400000000</td>\n",
       "    </tr>\n",
       "    <tr>\n",
       "      <th>Oyo Rooms</th>\n",
       "      <td>350000000</td>\n",
       "    </tr>\n",
       "    <tr>\n",
       "      <th>Quikr</th>\n",
       "      <td>230000000</td>\n",
       "    </tr>\n",
       "    <tr>\n",
       "      <th>Delhivery</th>\n",
       "      <td>215000000</td>\n",
       "    </tr>\n",
       "  </tbody>\n",
       "</table>\n",
       "</div>"
      ],
      "text/plain": [
       "              AmountInUSD\n",
       "StartupName              \n",
       "Paytm          2140000000\n",
       "Flipkart       1559700000\n",
       "Ola             984500000\n",
       "Flipkart.com    700000000\n",
       "Snapdeal        700000000\n",
       "Ola Cabs        515000000\n",
       "Olacabs         400000000\n",
       "Oyo Rooms       350000000\n",
       "Quikr           230000000\n",
       "Delhivery       215000000"
      ]
     },
     "execution_count": 11,
     "metadata": {},
     "output_type": "execute_result"
    }
   ],
   "source": [
    "#Top 10 Startups On Basis Of Funds Acquired\n",
    "top_10_startups=pd.DataFrame(data.groupby('StartupName')['AmountInUSD'].sum().sort_values(ascending=False).head(10))\n",
    "top_10_startups['AmountInUSD']=top_10_startups['AmountInUSD'].apply(lambda x: math.ceil(x))\n",
    "top_10_startups"
   ]
  },
  {
   "cell_type": "code",
   "execution_count": 12,
   "metadata": {},
   "outputs": [
    {
     "data": {
      "text/plain": [
       "16000.0"
      ]
     },
     "execution_count": 12,
     "metadata": {},
     "output_type": "execute_result"
    }
   ],
   "source": [
    "#To get Minimum Funds acquired by startup\n",
    "(data['AmountInUSD'].describe()['min'])"
   ]
  },
  {
   "cell_type": "code",
   "execution_count": 13,
   "metadata": {},
   "outputs": [
    {
     "data": {
      "text/html": [
       "<div>\n",
       "<style scoped>\n",
       "    .dataframe tbody tr th:only-of-type {\n",
       "        vertical-align: middle;\n",
       "    }\n",
       "\n",
       "    .dataframe tbody tr th {\n",
       "        vertical-align: top;\n",
       "    }\n",
       "\n",
       "    .dataframe thead th {\n",
       "        text-align: right;\n",
       "    }\n",
       "</style>\n",
       "<table border=\"1\" class=\"dataframe\">\n",
       "  <thead>\n",
       "    <tr style=\"text-align: right;\">\n",
       "      <th></th>\n",
       "      <th>Date</th>\n",
       "      <th>StartupName</th>\n",
       "      <th>IndustryVertical</th>\n",
       "      <th>SubVertical</th>\n",
       "      <th>CityLocation</th>\n",
       "      <th>InvestorsName</th>\n",
       "      <th>InvestmentType</th>\n",
       "      <th>AmountInUSD</th>\n",
       "    </tr>\n",
       "  </thead>\n",
       "  <tbody>\n",
       "    <tr>\n",
       "      <th>2345</th>\n",
       "      <td>19/01/2015</td>\n",
       "      <td>Hostel Dunia</td>\n",
       "      <td>NaN</td>\n",
       "      <td>NaN</td>\n",
       "      <td>NaN</td>\n",
       "      <td>Hyderabad Angels (at Startup Heroes event)</td>\n",
       "      <td>Seed Funding</td>\n",
       "      <td>16000.0</td>\n",
       "    </tr>\n",
       "    <tr>\n",
       "      <th>2346</th>\n",
       "      <td>19/01/2015</td>\n",
       "      <td>Play your sport</td>\n",
       "      <td>NaN</td>\n",
       "      <td>NaN</td>\n",
       "      <td>NaN</td>\n",
       "      <td>Hyderabad Angels (at Startup Heroes event)</td>\n",
       "      <td>Seed Funding</td>\n",
       "      <td>16000.0</td>\n",
       "    </tr>\n",
       "    <tr>\n",
       "      <th>2347</th>\n",
       "      <td>19/01/2015</td>\n",
       "      <td>Yo Grad</td>\n",
       "      <td>NaN</td>\n",
       "      <td>NaN</td>\n",
       "      <td>NaN</td>\n",
       "      <td>Hyderabad Angels (at Startup Heroes event)</td>\n",
       "      <td>Seed Funding</td>\n",
       "      <td>16000.0</td>\n",
       "    </tr>\n",
       "    <tr>\n",
       "      <th>2348</th>\n",
       "      <td>19/01/2015</td>\n",
       "      <td>Enabli</td>\n",
       "      <td>NaN</td>\n",
       "      <td>NaN</td>\n",
       "      <td>NaN</td>\n",
       "      <td>Hyderabad Angels (at Startup Heroes event)</td>\n",
       "      <td>Seed Funding</td>\n",
       "      <td>16000.0</td>\n",
       "    </tr>\n",
       "    <tr>\n",
       "      <th>2349</th>\n",
       "      <td>19/01/2015</td>\n",
       "      <td>CBS</td>\n",
       "      <td>NaN</td>\n",
       "      <td>NaN</td>\n",
       "      <td>NaN</td>\n",
       "      <td>Hyderabad Angels (at Startup Heroes event)</td>\n",
       "      <td>Seed Funding</td>\n",
       "      <td>16000.0</td>\n",
       "    </tr>\n",
       "  </tbody>\n",
       "</table>\n",
       "</div>"
      ],
      "text/plain": [
       "            Date      StartupName IndustryVertical SubVertical CityLocation  \\\n",
       "2345  19/01/2015     Hostel Dunia              NaN         NaN          NaN   \n",
       "2346  19/01/2015  Play your sport              NaN         NaN          NaN   \n",
       "2347  19/01/2015          Yo Grad              NaN         NaN          NaN   \n",
       "2348  19/01/2015           Enabli              NaN         NaN          NaN   \n",
       "2349  19/01/2015              CBS              NaN         NaN          NaN   \n",
       "\n",
       "                                   InvestorsName InvestmentType  AmountInUSD  \n",
       "2345  Hyderabad Angels (at Startup Heroes event)   Seed Funding      16000.0  \n",
       "2346  Hyderabad Angels (at Startup Heroes event)   Seed Funding      16000.0  \n",
       "2347  Hyderabad Angels (at Startup Heroes event)   Seed Funding      16000.0  \n",
       "2348  Hyderabad Angels (at Startup Heroes event)   Seed Funding      16000.0  \n",
       "2349  Hyderabad Angels (at Startup Heroes event)   Seed Funding      16000.0  "
      ]
     },
     "execution_count": 13,
     "metadata": {},
     "output_type": "execute_result"
    }
   ],
   "source": [
    "# In Data\n",
    "data[data['AmountInUSD']==16000]"
   ]
  },
  {
   "cell_type": "code",
   "execution_count": 14,
   "metadata": {},
   "outputs": [
    {
     "data": {
      "text/plain": [
       "Bangalore    627\n",
       "Mumbai       446\n",
       "New Delhi    381\n",
       "Gurgaon      240\n",
       "Pune          84\n",
       "Noida         78\n",
       "Hyderabad     76\n",
       "Chennai       66\n",
       "Ahmedabad     35\n",
       "Jaipur        25\n",
       "Name: CityLocation, dtype: int64"
      ]
     },
     "execution_count": 14,
     "metadata": {},
     "output_type": "execute_result"
    }
   ],
   "source": [
    "# City Having Maximum Startup\n",
    "cities=data[data['CityLocation']!='Not Specified']\n",
    "cities=cities['CityLocation'].value_counts().sort_values(ascending=False).head(10)\n",
    "cities"
   ]
  },
  {
   "cell_type": "code",
   "execution_count": 15,
   "metadata": {},
   "outputs": [
    {
     "data": {
      "text/plain": [
       "Consumer Internet    772\n",
       "Technology           313\n",
       "eCommerce            171\n",
       "ECommerce             53\n",
       "Healthcare            30\n",
       "Logistics             24\n",
       "Education             20\n",
       "Food & Beverage       19\n",
       "Finance                9\n",
       "Others                 6\n",
       "Name: IndustryVertical, dtype: int64"
      ]
     },
     "execution_count": 15,
     "metadata": {},
     "output_type": "execute_result"
    }
   ],
   "source": [
    "# Industry having Maximum Startups\n",
    "df=data[data['IndustryVertical']!='others']\n",
    "df['IndustryVertical'].value_counts().sort_values(ascending=False).head(10)"
   ]
  },
  {
   "cell_type": "code",
   "execution_count": 16,
   "metadata": {},
   "outputs": [
    {
     "data": {
      "text/plain": [
       "Seed Funding      1271\n",
       "Private Equity    1066\n",
       "SeedFunding         30\n",
       "Crowd funding        1\n",
       "Debt Funding         1\n",
       "PrivateEquity        1\n",
       "Crowd Funding        1\n",
       "Name: InvestmentType, dtype: int64"
      ]
     },
     "execution_count": 16,
     "metadata": {},
     "output_type": "execute_result"
    }
   ],
   "source": [
    "# Common Investment Types\n",
    "data['InvestmentType'].value_counts()"
   ]
  },
  {
   "cell_type": "code",
   "execution_count": 17,
   "metadata": {},
   "outputs": [],
   "source": [
    "data['Date']=data['Date'].apply(lambda x: str(x).replace('.','/'))\n",
    "data['Date']=data['Date'].apply(lambda x: str(x).replace('//','/'))\n",
    "data['Date']=pd.to_datetime(data['Date'])"
   ]
  },
  {
   "cell_type": "code",
   "execution_count": 18,
   "metadata": {},
   "outputs": [],
   "source": [
    "# To get most number of startup funded in certain time\n",
    "date_year=data['Date'].dt\n",
    "\n",
    "data['Month']=date_year.month\n",
    "data['Year']=date_year.year\n",
    "\n",
    "data['Quarter']=''\n",
    "data['Year']=data['Year'].astype('object')\n",
    "\n",
    "data.loc[(data['Month']>=1) & (data['Month']<=3),'Quarter']=str(1)\n",
    "data.loc[(data['Month']>=4) & (data['Month']<=6),'Quarter']=str(2)\n",
    "data.loc[(data['Month']>=7) & (data['Month']<=9),'Quarter']=str(3)\n",
    "data.loc[(data['Month']>=10) & (data['Month']<=12),'Quarter']=str(4)\n",
    "\n",
    "data['Quarter']=data['Year'].astype(str)+\"-Q\"+data['Quarter'].astype(str)"
   ]
  },
  {
   "cell_type": "code",
   "execution_count": 21,
   "metadata": {},
   "outputs": [
    {
     "data": {
      "text/plain": [
       "Quarter\n",
       "2015-Q3    275\n",
       "2016-Q2    265\n",
       "2016-Q1    251\n",
       "2016-Q3    239\n",
       "2016-Q4    238\n",
       "2015-Q4    237\n",
       "2015-Q2    215\n",
       "2015-Q1    209\n",
       "2017-Q1    166\n",
       "2017-Q2    151\n",
       "2017-Q3     74\n",
       "2017-Q4     52\n",
       "Name: StartupName, dtype: int64"
      ]
     },
     "execution_count": 21,
     "metadata": {},
     "output_type": "execute_result"
    }
   ],
   "source": [
    "data.groupby('Quarter')['StartupName'].count().sort_values(ascending=False)"
   ]
  },
  {
   "cell_type": "code",
   "execution_count": 22,
   "metadata": {},
   "outputs": [],
   "source": [
    "# To get top investors by number of startup funded"
   ]
  },
  {
   "cell_type": "code",
   "execution_count": 24,
   "metadata": {},
   "outputs": [],
   "source": [
    "data['InvestorsName'].fillna(value='Undisclosed Investors',inplace=True)\n",
    "data['InvestorsName']=data['InvestorsName'].replace('Undisclosed investors','Undisclosed Investors')"
   ]
  },
  {
   "cell_type": "code",
   "execution_count": 25,
   "metadata": {},
   "outputs": [],
   "source": [
    "def investors_cleaner(x):\n",
    "    b=str(x).lower()\n",
    "    if 'undisclosed' in b:\n",
    "        return 'Undisclosed Investor'\n",
    "    else:\n",
    "        return x"
   ]
  },
  {
   "cell_type": "code",
   "execution_count": 26,
   "metadata": {},
   "outputs": [],
   "source": [
    "data['InvestorsName']=data['InvestorsName'].apply(investors_cleaner)"
   ]
  },
  {
   "cell_type": "code",
   "execution_count": 27,
   "metadata": {},
   "outputs": [],
   "source": [
    "def investors_counter(x):\n",
    "    l=x.split(',')\n",
    "    return len(l)"
   ]
  },
  {
   "cell_type": "code",
   "execution_count": 28,
   "metadata": {},
   "outputs": [],
   "source": [
    "investors_companies_funded={}\n",
    "unique_name=data['InvestorsName'].unique()\n",
    "name=np.array(data['InvestorsName'].values)\n",
    "for i in range(len(unique_name)):\n",
    "    for j in range(len(name)):\n",
    "        if(re.search(unique_name[i],name[j])):\n",
    "            investors_companies_funded[unique_name[i]]=investors_companies_funded.get(unique_name[i],0)+1\n"
   ]
  },
  {
   "cell_type": "code",
   "execution_count": 29,
   "metadata": {},
   "outputs": [],
   "source": [
    "lst_investors = pd.DataFrame({'Name':list(investors_companies_funded.keys()),'Number of Startups Funded':list(investors_companies_funded.values())}).sort_values('Number of Startups Funded',ascending=False)"
   ]
  },
  {
   "cell_type": "code",
   "execution_count": 30,
   "metadata": {},
   "outputs": [
    {
     "data": {
      "text/html": [
       "<div>\n",
       "<style scoped>\n",
       "    .dataframe tbody tr th:only-of-type {\n",
       "        vertical-align: middle;\n",
       "    }\n",
       "\n",
       "    .dataframe tbody tr th {\n",
       "        vertical-align: top;\n",
       "    }\n",
       "\n",
       "    .dataframe thead th {\n",
       "        text-align: right;\n",
       "    }\n",
       "</style>\n",
       "<table border=\"1\" class=\"dataframe\">\n",
       "  <thead>\n",
       "    <tr style=\"text-align: right;\">\n",
       "      <th></th>\n",
       "      <th>Name</th>\n",
       "      <th>Number of Startups Funded</th>\n",
       "    </tr>\n",
       "  </thead>\n",
       "  <tbody>\n",
       "    <tr>\n",
       "      <th>85</th>\n",
       "      <td>Sequoia Capital</td>\n",
       "      <td>74</td>\n",
       "    </tr>\n",
       "    <tr>\n",
       "      <th>112</th>\n",
       "      <td>Accel Partners</td>\n",
       "      <td>63</td>\n",
       "    </tr>\n",
       "    <tr>\n",
       "      <th>401</th>\n",
       "      <td>Kalaari Capital</td>\n",
       "      <td>51</td>\n",
       "    </tr>\n",
       "    <tr>\n",
       "      <th>50</th>\n",
       "      <td>Blume Ventures</td>\n",
       "      <td>47</td>\n",
       "    </tr>\n",
       "    <tr>\n",
       "      <th>497</th>\n",
       "      <td>SAIF Partners</td>\n",
       "      <td>45</td>\n",
       "    </tr>\n",
       "    <tr>\n",
       "      <th>21</th>\n",
       "      <td>Indian Angel Network</td>\n",
       "      <td>42</td>\n",
       "    </tr>\n",
       "    <tr>\n",
       "      <th>884</th>\n",
       "      <td>Tiger Global</td>\n",
       "      <td>41</td>\n",
       "    </tr>\n",
       "    <tr>\n",
       "      <th>1191</th>\n",
       "      <td>IDG Ventures</td>\n",
       "      <td>40</td>\n",
       "    </tr>\n",
       "    <tr>\n",
       "      <th>506</th>\n",
       "      <td>Ratan Tata</td>\n",
       "      <td>30</td>\n",
       "    </tr>\n",
       "    <tr>\n",
       "      <th>1628</th>\n",
       "      <td>Mohandas Pai</td>\n",
       "      <td>29</td>\n",
       "    </tr>\n",
       "  </tbody>\n",
       "</table>\n",
       "</div>"
      ],
      "text/plain": [
       "                      Name  Number of Startups Funded\n",
       "85         Sequoia Capital                         74\n",
       "112         Accel Partners                         63\n",
       "401        Kalaari Capital                         51\n",
       "50          Blume Ventures                         47\n",
       "497          SAIF Partners                         45\n",
       "21    Indian Angel Network                         42\n",
       "884           Tiger Global                         41\n",
       "1191          IDG Ventures                         40\n",
       "506             Ratan Tata                         30\n",
       "1628          Mohandas Pai                         29"
      ]
     },
     "execution_count": 30,
     "metadata": {},
     "output_type": "execute_result"
    }
   ],
   "source": [
    "lst_investors[lst_investors['Name']!='Undisclosed Investor'].head(10)"
   ]
  },
  {
   "cell_type": "markdown",
   "metadata": {},
   "source": [
    "# Questions And Answer By Graph"
   ]
  },
  {
   "cell_type": "code",
   "execution_count": 31,
   "metadata": {},
   "outputs": [],
   "source": [
    "# Q1. Which Industry Has Most Number Of Startups ?"
   ]
  },
  {
   "cell_type": "code",
   "execution_count": 32,
   "metadata": {},
   "outputs": [],
   "source": [
    "mask=df.groupby('IndustryVertical')['StartupName'].count().sort_values(ascending=False).head(10).index.tolist()\n",
    "top_10_industries=data[data['IndustryVertical'].isin(mask)]"
   ]
  },
  {
   "cell_type": "code",
   "execution_count": 33,
   "metadata": {},
   "outputs": [
    {
     "data": {
      "image/png": "[encoded data removed]",
      "text/plain": [
       "<Figure size 1440x720 with 1 Axes>"
      ]
     },
     "metadata": {
      "needs_background": "light"
     },
     "output_type": "display_data"
    }
   ],
   "source": [
    "plt.figure(figsize=(20,10))\n",
    "sns.countplot(x='IndustryVertical',data=top_10_industries)\n",
    "plt.xlabel('Industries',fontsize=20)\n",
    "plt.xticks(rotation=15,fontsize=20)\n",
    "plt.ylabel('Number of startups in particular Industry',fontsize=20)\n",
    "plt.title('Number of Startups in Industry',fontsize=30)\n",
    "plt.show()"
   ]
  },
  {
   "cell_type": "code",
   "execution_count": 34,
   "metadata": {},
   "outputs": [],
   "source": [
    "# Ans:- As we can see Technology,Consumer Internet And eCommerce Industries have most number of startups"
   ]
  },
  {
   "cell_type": "code",
   "execution_count": 35,
   "metadata": {},
   "outputs": [],
   "source": [
    "# Q2. Which City Has Maximum Startups ?"
   ]
  },
  {
   "cell_type": "code",
   "execution_count": 36,
   "metadata": {},
   "outputs": [
    {
     "data": {
      "image/png": "[encoded data removed]",
      "text/plain": [
       "<Figure size 720x720 with 1 Axes>"
      ]
     },
     "metadata": {
      "needs_background": "light"
     },
     "output_type": "display_data"
    }
   ],
   "source": [
    "plt.figure(figsize=(10,10))\n",
    "plt.title('Number of Startups',fontsize=25)\n",
    "plt.xlabel('Number',fontsize=35)\n",
    "plt.ylabel('City',fontsize=35)\n",
    "sns.barplot(cities.values,cities.index,palette='cool')\n",
    "plt.show()"
   ]
  },
  {
   "cell_type": "code",
   "execution_count": 37,
   "metadata": {},
   "outputs": [],
   "source": [
    "# Ans:- As we can see Banglore, Mumbai And Delhi Have Most Number of startups."
   ]
  },
  {
   "cell_type": "code",
   "execution_count": 38,
   "metadata": {},
   "outputs": [],
   "source": [
    "#Q3 What Are the most Common Investment Types ?"
   ]
  },
  {
   "cell_type": "code",
   "execution_count": 39,
   "metadata": {},
   "outputs": [
    {
     "data": {
      "image/png": "[encoded data removed]",
      "text/plain": [
       "<Figure size 720x720 with 1 Axes>"
      ]
     },
     "metadata": {
      "needs_background": "light"
     },
     "output_type": "display_data"
    }
   ],
   "source": [
    "graph_data=data['InvestmentType'].value_counts()\n",
    "plt.figure(figsize=(10,10))\n",
    "plt.ylabel('Number',fontsize=25)\n",
    "plt.title('Investment Types',fontsize=25)\n",
    "sns.barplot(graph_data.index,graph_data.values)\n",
    "plt.savefig('CommonInvestmentTypes.png',dpi=300)"
   ]
  },
  {
   "cell_type": "code",
   "execution_count": 40,
   "metadata": {},
   "outputs": [],
   "source": [
    "# Ans:- Seed Funding And Private Equity Are Most Common Investment Type."
   ]
  },
  {
   "cell_type": "code",
   "execution_count": 41,
   "metadata": {},
   "outputs": [],
   "source": [
    "# Q4. Which Part Of Year Most Number Of Startups Were Funded ?"
   ]
  },
  {
   "cell_type": "code",
   "execution_count": 43,
   "metadata": {},
   "outputs": [
    {
     "data": {
      "image/png": "[encoded data removed]",
      "text/plain": [
       "<Figure size 720x720 with 1 Axes>"
      ]
     },
     "metadata": {
      "needs_background": "light"
     },
     "output_type": "display_data"
    }
   ],
   "source": [
    "plt.figure(figsize=(10,10))\n",
    "plt.title('Per Quarter',fontsize=20)\n",
    "sns.countplot(x='Quarter',data=data)\n",
    "plt.savefig('QuarterlyTrend.png',dpi=300)"
   ]
  },
  {
   "cell_type": "code",
   "execution_count": 52,
   "metadata": {},
   "outputs": [],
   "source": [
    "# Ans:- As we can see Q3 of 2015 and Q2 of 2016 most number of startups were funded "
   ]
  },
  {
   "cell_type": "code",
   "execution_count": 48,
   "metadata": {},
   "outputs": [],
   "source": [
    "#Q5. Who Are The Top Investors ?"
   ]
  },
  {
   "cell_type": "code",
   "execution_count": 49,
   "metadata": {},
   "outputs": [
    {
     "data": {
      "image/png": "[encoded data removed]",
      "text/plain": [
       "<Figure size 720x720 with 1 Axes>"
      ]
     },
     "metadata": {
      "needs_background": "light"
     },
     "output_type": "display_data"
    }
   ],
   "source": [
    "temp=investors_companies_funded\n",
    "index=list(temp.keys())\n",
    "values=list(temp.values())\n",
    "graph_data=pd.Series(values,index=index).sort_values(ascending=False).head(10)\n",
    "plt.figure(figsize=(10,10))\n",
    "plt.xlabel('Investors',fontsize=19)\n",
    "plt.ylabel('Number',fontsize=19)\n",
    "plt.title('Number of Startups Funded',fontsize=20)\n",
    "plt.xticks(fontsize=16,rotation='vertical')\n",
    "sns.barplot(graph_data.index,graph_data.values,palette='cool')\n",
    "plt.show()"
   ]
  },
  {
   "cell_type": "code",
   "execution_count": 50,
   "metadata": {},
   "outputs": [],
   "source": [
    "#Ans:- As we can see Sequoia Capital, Accel Partners and Kalaari Capital are top investors."
   ]
  }
 ],
 "metadata": {
  "kernelspec": {
   "display_name": "Python 3",
   "language": "python",
   "name": "python3"
  },
  "language_info": {
   "codemirror_mode": {
    "name": "ipython",
    "version": 3
   },
   "file_extension": ".py",
   "mimetype": "text/x-python",
   "name": "python",
   "nbconvert_exporter": "python",
   "pygments_lexer": "ipython3",
   "version": "3.7.3"
  }
 },
 "nbformat": 4,
 "nbformat_minor": 2
}
